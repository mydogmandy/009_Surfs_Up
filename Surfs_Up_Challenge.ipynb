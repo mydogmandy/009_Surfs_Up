{
 "cells": [
  {
   "cell_type": "code",
   "execution_count": 116,
   "metadata": {},
   "outputs": [],
   "source": [
    "import pandas as pd\n",
    "\n",
    "import sqlalchemy\n",
    "from sqlalchemy import create_engine, func, extract\n",
    "from sqlalchemy.ext.automap import automap_base\n",
    "from sqlalchemy.orm import Session\n",
    "\n",
    "from config import g_key\n",
    "import gmaps\n",
    "\n",
    "%matplotlib inline\n",
    "import matplotlib.pyplot as plt\n",
    "import numpy as np"
   ]
  },
  {
   "cell_type": "code",
   "execution_count": 117,
   "metadata": {},
   "outputs": [],
   "source": [
    "engine = create_engine(\"sqlite:///hawaii.sqlite\")"
   ]
  },
  {
   "cell_type": "code",
   "execution_count": 118,
   "metadata": {},
   "outputs": [],
   "source": [
    "# Reflect an existing database into a new model:\n",
    "Base = automap_base()\n",
    "\n",
    "# Reflect the tables:\n",
    "Base.prepare(engine, reflect=True)"
   ]
  },
  {
   "cell_type": "code",
   "execution_count": 119,
   "metadata": {},
   "outputs": [],
   "source": [
    "# Save references to each table\n",
    "Measurement = Base.classes.measurement"
   ]
  },
  {
   "cell_type": "code",
   "execution_count": 120,
   "metadata": {},
   "outputs": [],
   "source": [
    "# Create our session (link) from Python to the DB\n",
    "session = Session(engine)"
   ]
  },
  {
   "cell_type": "code",
   "execution_count": 121,
   "metadata": {},
   "outputs": [],
   "source": [
    "# Challenge steps:\n",
    "\n",
    "# Determine the starting date covered in the analysis\n",
    "# Determine the ending date covered in the analysis\n",
    "\n",
    "# Extract the temperature observations for JUN across all years\n",
    "# Determine the total number of JUN observations for each station\n",
    "\n",
    "# Extract the temperature observations for DEC across all years\n",
    "# Determine the total number of DEC observations for each station\n",
    "\n",
    "# Compare key statistical data about the months of JUN & DEC across all years\n",
    "\n",
    "# Get coordinates and information about the weather stations\n",
    "# Create information pop up box for weather stations\n",
    "# Create a map to illistrate the locations of the weather stations"
   ]
  },
  {
   "cell_type": "code",
   "execution_count": 122,
   "metadata": {},
   "outputs": [
    {
     "data": {
      "text/plain": [
       "('2010-01-01')"
      ]
     },
     "execution_count": 122,
     "metadata": {},
     "output_type": "execute_result"
    }
   ],
   "source": [
    "# Determine the starting date covered in the analysis:\n",
    "DRange = session.query(Measurement.date).\\\n",
    "        order_by((Measurement.date).desc()).all()\n",
    "FirstDate = DRange[-1]\n",
    "FirstDate"
   ]
  },
  {
   "cell_type": "code",
   "execution_count": 123,
   "metadata": {},
   "outputs": [
    {
     "data": {
      "text/plain": [
       "('2017-08-23')"
      ]
     },
     "execution_count": 123,
     "metadata": {},
     "output_type": "execute_result"
    }
   ],
   "source": [
    "# Determine the ending date covered in the analysis:\n",
    "LastDate = DRange[0]\n",
    "LastDate"
   ]
  },
  {
   "cell_type": "code",
   "execution_count": 124,
   "metadata": {},
   "outputs": [
    {
     "data": {
      "text/html": [
       "<div>\n",
       "<style scoped>\n",
       "    .dataframe tbody tr th:only-of-type {\n",
       "        vertical-align: middle;\n",
       "    }\n",
       "\n",
       "    .dataframe tbody tr th {\n",
       "        vertical-align: top;\n",
       "    }\n",
       "\n",
       "    .dataframe thead th {\n",
       "        text-align: right;\n",
       "    }\n",
       "</style>\n",
       "<table border=\"1\" class=\"dataframe\">\n",
       "  <thead>\n",
       "    <tr style=\"text-align: right;\">\n",
       "      <th></th>\n",
       "      <th>Station Id</th>\n",
       "      <th>Date</th>\n",
       "      <th>JUN Temps</th>\n",
       "    </tr>\n",
       "  </thead>\n",
       "  <tbody>\n",
       "    <tr>\n",
       "      <th>0</th>\n",
       "      <td>USC00519397</td>\n",
       "      <td>2010-06-01</td>\n",
       "      <td>78.0</td>\n",
       "    </tr>\n",
       "    <tr>\n",
       "      <th>1</th>\n",
       "      <td>USC00519397</td>\n",
       "      <td>2010-06-02</td>\n",
       "      <td>76.0</td>\n",
       "    </tr>\n",
       "    <tr>\n",
       "      <th>2</th>\n",
       "      <td>USC00519397</td>\n",
       "      <td>2010-06-03</td>\n",
       "      <td>78.0</td>\n",
       "    </tr>\n",
       "    <tr>\n",
       "      <th>3</th>\n",
       "      <td>USC00519397</td>\n",
       "      <td>2010-06-04</td>\n",
       "      <td>76.0</td>\n",
       "    </tr>\n",
       "    <tr>\n",
       "      <th>4</th>\n",
       "      <td>USC00519397</td>\n",
       "      <td>2010-06-05</td>\n",
       "      <td>77.0</td>\n",
       "    </tr>\n",
       "    <tr>\n",
       "      <th>...</th>\n",
       "      <td>...</td>\n",
       "      <td>...</td>\n",
       "      <td>...</td>\n",
       "    </tr>\n",
       "    <tr>\n",
       "      <th>1695</th>\n",
       "      <td>USC00516128</td>\n",
       "      <td>2017-06-26</td>\n",
       "      <td>79.0</td>\n",
       "    </tr>\n",
       "    <tr>\n",
       "      <th>1696</th>\n",
       "      <td>USC00516128</td>\n",
       "      <td>2017-06-27</td>\n",
       "      <td>74.0</td>\n",
       "    </tr>\n",
       "    <tr>\n",
       "      <th>1697</th>\n",
       "      <td>USC00516128</td>\n",
       "      <td>2017-06-28</td>\n",
       "      <td>74.0</td>\n",
       "    </tr>\n",
       "    <tr>\n",
       "      <th>1698</th>\n",
       "      <td>USC00516128</td>\n",
       "      <td>2017-06-29</td>\n",
       "      <td>76.0</td>\n",
       "    </tr>\n",
       "    <tr>\n",
       "      <th>1699</th>\n",
       "      <td>USC00516128</td>\n",
       "      <td>2017-06-30</td>\n",
       "      <td>75.0</td>\n",
       "    </tr>\n",
       "  </tbody>\n",
       "</table>\n",
       "<p>1700 rows × 3 columns</p>\n",
       "</div>"
      ],
      "text/plain": [
       "       Station Id        Date  JUN Temps\n",
       "0     USC00519397  2010-06-01       78.0\n",
       "1     USC00519397  2010-06-02       76.0\n",
       "2     USC00519397  2010-06-03       78.0\n",
       "3     USC00519397  2010-06-04       76.0\n",
       "4     USC00519397  2010-06-05       77.0\n",
       "...           ...         ...        ...\n",
       "1695  USC00516128  2017-06-26       79.0\n",
       "1696  USC00516128  2017-06-27       74.0\n",
       "1697  USC00516128  2017-06-28       74.0\n",
       "1698  USC00516128  2017-06-29       76.0\n",
       "1699  USC00516128  2017-06-30       75.0\n",
       "\n",
       "[1700 rows x 3 columns]"
      ]
     },
     "execution_count": 124,
     "metadata": {},
     "output_type": "execute_result"
    }
   ],
   "source": [
    "# Extract the temperature observations for JUN across all years:\n",
    "\n",
    "from sqlalchemy import extract  \n",
    "\n",
    "JUN_extract = session.query(Measurement.station, Measurement.date, Measurement.tobs).\\\n",
    "filter(extract('month', Measurement.date)==6).all()\n",
    "\n",
    "# Save the query results as a Pandas DataFrame and set the index to the Date column:\n",
    "\n",
    "JUN_data = pd.DataFrame(JUN_extract, columns=['Station Id', 'Date', 'JUN Temps'])\n",
    "\n",
    "JUN_data"
   ]
  },
  {
   "cell_type": "code",
   "execution_count": 125,
   "metadata": {},
   "outputs": [
    {
     "name": "stdout",
     "output_type": "stream",
     "text": [
      "  Station Id  JUN Observations\n",
      " USC00511918               165\n",
      " USC00513117               236\n",
      " USC00514830               186\n",
      " USC00516128               223\n",
      " USC00517948               148\n",
      " USC00518838                38\n",
      " USC00519281               236\n",
      " USC00519397               236\n",
      " USC00519523               232\n"
     ]
    }
   ],
   "source": [
    "# Determine the total number of JUN observations for each station\n",
    "\n",
    "JUN_obs_extract = session.query(Measurement.station, func.count(Measurement.station)).\\\n",
    "filter(extract('month', Measurement.date)==6).group_by(Measurement.station).order_by(Measurement.station).all()\n",
    "\n",
    "# Save the query results as a Pandas DataFrame and set the index to the date column:\n",
    "\n",
    "JUN_obs_data = pd.DataFrame(JUN_obs_extract, columns=['Station Id', 'JUN Observations'])\n",
    "JUN_obs_data.set_index(JUN_obs_data['Station Id'], inplace=True)\n",
    "JUN_obs_data.sort_index(ascending=True)\n",
    "print(JUN_obs_data.to_string(index=False))"
   ]
  },
  {
   "cell_type": "code",
   "execution_count": 126,
   "metadata": {},
   "outputs": [
    {
     "data": {
      "text/html": [
       "<div>\n",
       "<style scoped>\n",
       "    .dataframe tbody tr th:only-of-type {\n",
       "        vertical-align: middle;\n",
       "    }\n",
       "\n",
       "    .dataframe tbody tr th {\n",
       "        vertical-align: top;\n",
       "    }\n",
       "\n",
       "    .dataframe thead th {\n",
       "        text-align: right;\n",
       "    }\n",
       "</style>\n",
       "<table border=\"1\" class=\"dataframe\">\n",
       "  <thead>\n",
       "    <tr style=\"text-align: right;\">\n",
       "      <th></th>\n",
       "      <th>Station Id</th>\n",
       "      <th>Date</th>\n",
       "      <th>DEC Temps</th>\n",
       "    </tr>\n",
       "  </thead>\n",
       "  <tbody>\n",
       "    <tr>\n",
       "      <th>0</th>\n",
       "      <td>USC00519397</td>\n",
       "      <td>2010-12-01</td>\n",
       "      <td>76.0</td>\n",
       "    </tr>\n",
       "    <tr>\n",
       "      <th>1</th>\n",
       "      <td>USC00519397</td>\n",
       "      <td>2010-12-03</td>\n",
       "      <td>74.0</td>\n",
       "    </tr>\n",
       "    <tr>\n",
       "      <th>2</th>\n",
       "      <td>USC00519397</td>\n",
       "      <td>2010-12-04</td>\n",
       "      <td>74.0</td>\n",
       "    </tr>\n",
       "    <tr>\n",
       "      <th>3</th>\n",
       "      <td>USC00519397</td>\n",
       "      <td>2010-12-06</td>\n",
       "      <td>64.0</td>\n",
       "    </tr>\n",
       "    <tr>\n",
       "      <th>4</th>\n",
       "      <td>USC00519397</td>\n",
       "      <td>2010-12-07</td>\n",
       "      <td>64.0</td>\n",
       "    </tr>\n",
       "    <tr>\n",
       "      <th>...</th>\n",
       "      <td>...</td>\n",
       "      <td>...</td>\n",
       "      <td>...</td>\n",
       "    </tr>\n",
       "    <tr>\n",
       "      <th>1512</th>\n",
       "      <td>USC00516128</td>\n",
       "      <td>2016-12-27</td>\n",
       "      <td>71.0</td>\n",
       "    </tr>\n",
       "    <tr>\n",
       "      <th>1513</th>\n",
       "      <td>USC00516128</td>\n",
       "      <td>2016-12-28</td>\n",
       "      <td>71.0</td>\n",
       "    </tr>\n",
       "    <tr>\n",
       "      <th>1514</th>\n",
       "      <td>USC00516128</td>\n",
       "      <td>2016-12-29</td>\n",
       "      <td>69.0</td>\n",
       "    </tr>\n",
       "    <tr>\n",
       "      <th>1515</th>\n",
       "      <td>USC00516128</td>\n",
       "      <td>2016-12-30</td>\n",
       "      <td>65.0</td>\n",
       "    </tr>\n",
       "    <tr>\n",
       "      <th>1516</th>\n",
       "      <td>USC00516128</td>\n",
       "      <td>2016-12-31</td>\n",
       "      <td>65.0</td>\n",
       "    </tr>\n",
       "  </tbody>\n",
       "</table>\n",
       "<p>1517 rows × 3 columns</p>\n",
       "</div>"
      ],
      "text/plain": [
       "       Station Id        Date  DEC Temps\n",
       "0     USC00519397  2010-12-01       76.0\n",
       "1     USC00519397  2010-12-03       74.0\n",
       "2     USC00519397  2010-12-04       74.0\n",
       "3     USC00519397  2010-12-06       64.0\n",
       "4     USC00519397  2010-12-07       64.0\n",
       "...           ...         ...        ...\n",
       "1512  USC00516128  2016-12-27       71.0\n",
       "1513  USC00516128  2016-12-28       71.0\n",
       "1514  USC00516128  2016-12-29       69.0\n",
       "1515  USC00516128  2016-12-30       65.0\n",
       "1516  USC00516128  2016-12-31       65.0\n",
       "\n",
       "[1517 rows x 3 columns]"
      ]
     },
     "execution_count": 126,
     "metadata": {},
     "output_type": "execute_result"
    }
   ],
   "source": [
    "# Extract the temperature observations for DEC across all years:\n",
    "\n",
    "DEC_extract = session.query(Measurement.station,Measurement.date, Measurement.tobs).\\\n",
    "filter(extract('month', Measurement.date)==12).all()\n",
    "\n",
    "# Save the query results as a Pandas DataFrame and set the index to the date column:\n",
    "\n",
    "DEC_data = pd.DataFrame(DEC_extract, columns=['Station Id','Date', 'DEC Temps'])\n",
    "\n",
    "DEC_data"
   ]
  },
  {
   "cell_type": "code",
   "execution_count": 127,
   "metadata": {
    "scrolled": true
   },
   "outputs": [
    {
     "name": "stdout",
     "output_type": "stream",
     "text": [
      "  Station Id  DEC Observations\n",
      " USC00511918               152\n",
      " USC00513117               216\n",
      " USC00514830               178\n",
      " USC00516128               206\n",
      " USC00517948               109\n",
      " USC00518838                19\n",
      " USC00519281               217\n",
      " USC00519397               210\n",
      " USC00519523               210\n"
     ]
    }
   ],
   "source": [
    "# Determine the total number of DEC observations for each station:\n",
    "\n",
    "DEC_obs_extract = session.query(Measurement.station, func.count(Measurement.station)).\\\n",
    "filter(extract('month', Measurement.date)==12).group_by(Measurement.station).\\\n",
    "order_by(Measurement.station).all()\n",
    "\n",
    "# Save the query results as a Pandas DataFrame and set the index to the date column:\n",
    "\n",
    "DEC_obs_data = pd.DataFrame(DEC_obs_extract, columns=['Station Id', 'DEC Observations'])\n",
    "DEC_obs_data.set_index(DEC_obs_data['Station Id'], inplace=True)\n",
    "DEC_obs_data.sort_index(ascending=True)\n",
    "print(DEC_obs_data.to_string(index=False))"
   ]
  },
  {
   "cell_type": "code",
   "execution_count": 128,
   "metadata": {},
   "outputs": [
    {
     "data": {
      "text/html": [
       "<div>\n",
       "<style scoped>\n",
       "    .dataframe tbody tr th:only-of-type {\n",
       "        vertical-align: middle;\n",
       "    }\n",
       "\n",
       "    .dataframe tbody tr th {\n",
       "        vertical-align: top;\n",
       "    }\n",
       "\n",
       "    .dataframe thead th {\n",
       "        text-align: right;\n",
       "    }\n",
       "</style>\n",
       "<table border=\"1\" class=\"dataframe\">\n",
       "  <thead>\n",
       "    <tr style=\"text-align: right;\">\n",
       "      <th></th>\n",
       "      <th>JUN Temps</th>\n",
       "    </tr>\n",
       "  </thead>\n",
       "  <tbody>\n",
       "    <tr>\n",
       "      <th>count</th>\n",
       "      <td>1700.000000</td>\n",
       "    </tr>\n",
       "    <tr>\n",
       "      <th>mean</th>\n",
       "      <td>74.944118</td>\n",
       "    </tr>\n",
       "    <tr>\n",
       "      <th>std</th>\n",
       "      <td>3.257417</td>\n",
       "    </tr>\n",
       "    <tr>\n",
       "      <th>min</th>\n",
       "      <td>64.000000</td>\n",
       "    </tr>\n",
       "    <tr>\n",
       "      <th>25%</th>\n",
       "      <td>73.000000</td>\n",
       "    </tr>\n",
       "    <tr>\n",
       "      <th>50%</th>\n",
       "      <td>75.000000</td>\n",
       "    </tr>\n",
       "    <tr>\n",
       "      <th>75%</th>\n",
       "      <td>77.000000</td>\n",
       "    </tr>\n",
       "    <tr>\n",
       "      <th>max</th>\n",
       "      <td>85.000000</td>\n",
       "    </tr>\n",
       "  </tbody>\n",
       "</table>\n",
       "</div>"
      ],
      "text/plain": [
       "         JUN Temps\n",
       "count  1700.000000\n",
       "mean     74.944118\n",
       "std       3.257417\n",
       "min      64.000000\n",
       "25%      73.000000\n",
       "50%      75.000000\n",
       "75%      77.000000\n",
       "max      85.000000"
      ]
     },
     "execution_count": 128,
     "metadata": {},
     "output_type": "execute_result"
    }
   ],
   "source": [
    "JUN_data.describe()"
   ]
  },
  {
   "cell_type": "code",
   "execution_count": 129,
   "metadata": {},
   "outputs": [
    {
     "data": {
      "text/html": [
       "<div>\n",
       "<style scoped>\n",
       "    .dataframe tbody tr th:only-of-type {\n",
       "        vertical-align: middle;\n",
       "    }\n",
       "\n",
       "    .dataframe tbody tr th {\n",
       "        vertical-align: top;\n",
       "    }\n",
       "\n",
       "    .dataframe thead th {\n",
       "        text-align: right;\n",
       "    }\n",
       "</style>\n",
       "<table border=\"1\" class=\"dataframe\">\n",
       "  <thead>\n",
       "    <tr style=\"text-align: right;\">\n",
       "      <th></th>\n",
       "      <th>DEC Temps</th>\n",
       "    </tr>\n",
       "  </thead>\n",
       "  <tbody>\n",
       "    <tr>\n",
       "      <th>count</th>\n",
       "      <td>1517.000000</td>\n",
       "    </tr>\n",
       "    <tr>\n",
       "      <th>mean</th>\n",
       "      <td>71.041529</td>\n",
       "    </tr>\n",
       "    <tr>\n",
       "      <th>std</th>\n",
       "      <td>3.745920</td>\n",
       "    </tr>\n",
       "    <tr>\n",
       "      <th>min</th>\n",
       "      <td>56.000000</td>\n",
       "    </tr>\n",
       "    <tr>\n",
       "      <th>25%</th>\n",
       "      <td>69.000000</td>\n",
       "    </tr>\n",
       "    <tr>\n",
       "      <th>50%</th>\n",
       "      <td>71.000000</td>\n",
       "    </tr>\n",
       "    <tr>\n",
       "      <th>75%</th>\n",
       "      <td>74.000000</td>\n",
       "    </tr>\n",
       "    <tr>\n",
       "      <th>max</th>\n",
       "      <td>83.000000</td>\n",
       "    </tr>\n",
       "  </tbody>\n",
       "</table>\n",
       "</div>"
      ],
      "text/plain": [
       "         DEC Temps\n",
       "count  1517.000000\n",
       "mean     71.041529\n",
       "std       3.745920\n",
       "min      56.000000\n",
       "25%      69.000000\n",
       "50%      71.000000\n",
       "75%      74.000000\n",
       "max      83.000000"
      ]
     },
     "execution_count": 129,
     "metadata": {},
     "output_type": "execute_result"
    }
   ],
   "source": [
    "DEC_data.describe()"
   ]
  },
  {
   "cell_type": "code",
   "execution_count": 130,
   "metadata": {},
   "outputs": [
    {
     "data": {
      "text/html": [
       "<div>\n",
       "<style scoped>\n",
       "    .dataframe tbody tr th:only-of-type {\n",
       "        vertical-align: middle;\n",
       "    }\n",
       "\n",
       "    .dataframe tbody tr th {\n",
       "        vertical-align: top;\n",
       "    }\n",
       "\n",
       "    .dataframe thead th {\n",
       "        text-align: right;\n",
       "    }\n",
       "</style>\n",
       "<table border=\"1\" class=\"dataframe\">\n",
       "  <thead>\n",
       "    <tr style=\"text-align: right;\">\n",
       "      <th></th>\n",
       "      <th>JUN</th>\n",
       "      <th>DEC</th>\n",
       "    </tr>\n",
       "  </thead>\n",
       "  <tbody>\n",
       "    <tr>\n",
       "      <th>count</th>\n",
       "      <td>1700.000000</td>\n",
       "      <td>1517.000000</td>\n",
       "    </tr>\n",
       "    <tr>\n",
       "      <th>mean</th>\n",
       "      <td>74.944118</td>\n",
       "      <td>71.041529</td>\n",
       "    </tr>\n",
       "    <tr>\n",
       "      <th>std</th>\n",
       "      <td>3.257417</td>\n",
       "      <td>3.745920</td>\n",
       "    </tr>\n",
       "    <tr>\n",
       "      <th>min</th>\n",
       "      <td>64.000000</td>\n",
       "      <td>56.000000</td>\n",
       "    </tr>\n",
       "    <tr>\n",
       "      <th>25%</th>\n",
       "      <td>73.000000</td>\n",
       "      <td>69.000000</td>\n",
       "    </tr>\n",
       "    <tr>\n",
       "      <th>50%</th>\n",
       "      <td>75.000000</td>\n",
       "      <td>71.000000</td>\n",
       "    </tr>\n",
       "    <tr>\n",
       "      <th>75%</th>\n",
       "      <td>77.000000</td>\n",
       "      <td>74.000000</td>\n",
       "    </tr>\n",
       "    <tr>\n",
       "      <th>max</th>\n",
       "      <td>85.000000</td>\n",
       "      <td>83.000000</td>\n",
       "    </tr>\n",
       "  </tbody>\n",
       "</table>\n",
       "</div>"
      ],
      "text/plain": [
       "               JUN          DEC\n",
       "count  1700.000000  1517.000000\n",
       "mean     74.944118    71.041529\n",
       "std       3.257417     3.745920\n",
       "min      64.000000    56.000000\n",
       "25%      73.000000    69.000000\n",
       "50%      75.000000    71.000000\n",
       "75%      77.000000    74.000000\n",
       "max      85.000000    83.000000"
      ]
     },
     "execution_count": 130,
     "metadata": {},
     "output_type": "execute_result"
    }
   ],
   "source": [
    "JUNDEC_Data = pd.DataFrame({'JUN': JUN_data['JUN Temps'], 'DEC': DEC_data['DEC Temps']}, index=None)\n",
    "JUNDEC_Data.describe()"
   ]
  },
  {
   "cell_type": "code",
   "execution_count": 131,
   "metadata": {},
   "outputs": [
    {
     "data": {
      "image/png": "[encoded data removed]",
      "text/plain": [
       "<Figure size 432x288 with 1 Axes>"
      ]
     },
     "metadata": {
      "needs_background": "light"
     },
     "output_type": "display_data"
    }
   ],
   "source": [
    "JUNDEC_graph = pd.DataFrame(JUNDEC_Data)\n",
    "fig=plt.figure()\n",
    "fig.suptitle('Summer vs. Winter Temps', fontsize=18, fontweight='bold', color='crimson')\n",
    "JUNDEC_graph.boxplot(patch_artist=True, widths=(.3,.3))\n",
    "plt.ylabel('Degrees Farenheit', fontsize=13, color='red')\n",
    "plt.xlabel('01/2010 to 08/2017', color='green')\n",
    "plt.savefig('Temp Comparison.png')\n",
    "plt.show()\n"
   ]
  },
  {
   "cell_type": "code",
   "execution_count": 132,
   "metadata": {
    "scrolled": true
   },
   "outputs": [
    {
     "name": "stdout",
     "output_type": "stream",
     "text": [
      "  Station Id                            Station Name  Latitude  Longitude  Elevation\n",
      " USC00519397                    WAIKIKI 717.2, HI US  21.27160 -157.81680        3.0\n",
      " USC00513117                    KANEOHE 838.1, HI US  21.42340 -157.80150       14.6\n",
      " USC00514830  KUALOA RANCH HEADQUARTERS 886.9, HI US  21.52130 -157.83740        7.0\n",
      " USC00517948                       PEARL CITY, HI US  21.39340 -157.97510       11.9\n",
      " USC00518838              UPPER WAHIAWA 874.3, HI US  21.49920 -158.01110      306.6\n",
      " USC00519523      WAIMANALO EXPERIMENTAL FARM, HI US  21.33556 -157.71139       19.5\n",
      " USC00519281                     WAIHEE 837.5, HI US  21.45167 -157.84889       32.9\n",
      " USC00511918       HONOLULU OBSERVATORY 702.2, HI US  21.31520 -157.99920        0.9\n",
      " USC00516128            MANOA LYON ARBO 785.2, HI US  21.33310 -157.80250      152.4\n"
     ]
    }
   ],
   "source": [
    "# Get coordinates and information about the weather stations\n",
    "\n",
    "Station = Base.classes.station\n",
    "Station_extract = session.query(Station.station, Station.name, Station.latitude, \n",
    "                                Station.longitude, Station.elevation).all()\n",
    "\n",
    "Station_data = pd.DataFrame(Station_extract, columns=['Station Id', 'Station Name', \n",
    "                                                      'Latitude', 'Longitude', 'Elevation'])\n",
    "Station_data.set_index(Station_data['Station Id'], inplace=True)\n",
    "print(Station_data.to_string(index=False))"
   ]
  },
  {
   "cell_type": "code",
   "execution_count": 133,
   "metadata": {},
   "outputs": [],
   "source": [
    "# Create information pop up box for weather stations:\n",
    "\n",
    "info_box_template = \"\"\"\n",
    "<dl>\n",
    "<dt>Station Id</dt><dd>{Station Id}</dd>\n",
    "<dt>Name</dt><dd>{Station Name}</dd>\n",
    "<dt>Elevation</dt><dd>{Elevation}</dd>\n",
    "</dl>\n",
    "\"\"\"\n",
    "\n",
    "# Store the DataFrame Row:\n",
    "\n",
    "station_info = [info_box_template.format(**row) for index, row in Station_data.iterrows()]"
   ]
  },
  {
   "cell_type": "code",
   "execution_count": 134,
   "metadata": {},
   "outputs": [
    {
     "data": {
      "application/vnd.jupyter.widget-view+json": {
       "model_id": "62e6dcebf9bd4f8499ef87521346f354",
       "version_major": 2,
       "version_minor": 0
      },
      "text/plain": [
       "Figure(layout=FigureLayout(height='420px'))"
      ]
     },
     "metadata": {},
     "output_type": "display_data"
    }
   ],
   "source": [
    "# Create a map to illistrate the locations of the weather stations:\n",
    "\n",
    "gmaps.configure(api_key = g_key)\n",
    "locations = Station_data[[\"Latitude\", \"Longitude\"]]\n",
    "\n",
    "fig = gmaps.figure(center=(21.48, -157.85), zoom_level=10.0)\n",
    "\n",
    "marker_layer = gmaps.marker_layer(locations, info_box_content=station_info)                                 \n",
    "                                  \n",
    "fig.add_layer(marker_layer)\n",
    "fig"
   ]
  },
  {
   "cell_type": "code",
   "execution_count": null,
   "metadata": {},
   "outputs": [],
   "source": []
  }
 ],
 "metadata": {
  "kernelspec": {
   "display_name": "Python 3",
   "language": "python",
   "name": "python3"
  },
  "language_info": {
   "codemirror_mode": {
    "name": "ipython",
    "version": 3
   },
   "file_extension": ".py",
   "mimetype": "text/x-python",
   "name": "python",
   "nbconvert_exporter": "python",
   "pygments_lexer": "ipython3",
   "version": "3.7.6"
  }
 },
 "nbformat": 4,
 "nbformat_minor": 4
}
